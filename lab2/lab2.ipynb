{
 "cells": [
  {
   "cell_type": "code",
   "id": "initial_id",
   "metadata": {
    "collapsed": true,
    "ExecuteTime": {
     "end_time": "2025-03-21T10:53:18.787428Z",
     "start_time": "2025-03-21T10:53:16.368963Z"
    }
   },
   "source": [
    "import pandas as pd\n",
    "df = pd.read_csv(\"train_1.csv\")\n",
    "df.head(10) "
   ],
   "outputs": [
    {
     "name": "stderr",
     "output_type": "stream",
     "text": [
      "C:\\Users\\andri\\AppData\\Local\\Temp\\ipykernel_19676\\1735925059.py:2: DtypeWarning: Columns (7) have mixed types. Specify dtype option on import or set low_memory=False.\n",
      "  df = pd.read_csv(\"train_1.csv\")\n"
     ]
    },
    {
     "data": {
      "text/plain": [
       "   Store  DayOfWeek        Date  Sales  Customers  Open  Promo StateHoliday  \\\n",
       "0      1          5  2015-07-31   5263        555     1      1            0   \n",
       "1      2          5  2015-07-31   6064        625     1      1            0   \n",
       "2      3          5  2015-07-31   8314        821     1      1            0   \n",
       "3      4          5  2015-07-31  13995       1498     1      1            0   \n",
       "4      5          5  2015-07-31   4822        559     1      1            0   \n",
       "5      6          5  2015-07-31   5651        589     1      1            0   \n",
       "6      7          5  2015-07-31  15344       1414     1      1            0   \n",
       "7      8          5  2015-07-31   8492        833     1      1            0   \n",
       "8      9          5  2015-07-31   8565        687     1      1            0   \n",
       "9     10          5  2015-07-31   7185        681     1      1            0   \n",
       "\n",
       "   SchoolHoliday  \n",
       "0              1  \n",
       "1              1  \n",
       "2              1  \n",
       "3              1  \n",
       "4              1  \n",
       "5              1  \n",
       "6              1  \n",
       "7              1  \n",
       "8              1  \n",
       "9              1  "
      ],
      "text/html": [
       "<div>\n",
       "<style scoped>\n",
       "    .dataframe tbody tr th:only-of-type {\n",
       "        vertical-align: middle;\n",
       "    }\n",
       "\n",
       "    .dataframe tbody tr th {\n",
       "        vertical-align: top;\n",
       "    }\n",
       "\n",
       "    .dataframe thead th {\n",
       "        text-align: right;\n",
       "    }\n",
       "</style>\n",
       "<table border=\"1\" class=\"dataframe\">\n",
       "  <thead>\n",
       "    <tr style=\"text-align: right;\">\n",
       "      <th></th>\n",
       "      <th>Store</th>\n",
       "      <th>DayOfWeek</th>\n",
       "      <th>Date</th>\n",
       "      <th>Sales</th>\n",
       "      <th>Customers</th>\n",
       "      <th>Open</th>\n",
       "      <th>Promo</th>\n",
       "      <th>StateHoliday</th>\n",
       "      <th>SchoolHoliday</th>\n",
       "    </tr>\n",
       "  </thead>\n",
       "  <tbody>\n",
       "    <tr>\n",
       "      <th>0</th>\n",
       "      <td>1</td>\n",
       "      <td>5</td>\n",
       "      <td>2015-07-31</td>\n",
       "      <td>5263</td>\n",
       "      <td>555</td>\n",
       "      <td>1</td>\n",
       "      <td>1</td>\n",
       "      <td>0</td>\n",
       "      <td>1</td>\n",
       "    </tr>\n",
       "    <tr>\n",
       "      <th>1</th>\n",
       "      <td>2</td>\n",
       "      <td>5</td>\n",
       "      <td>2015-07-31</td>\n",
       "      <td>6064</td>\n",
       "      <td>625</td>\n",
       "      <td>1</td>\n",
       "      <td>1</td>\n",
       "      <td>0</td>\n",
       "      <td>1</td>\n",
       "    </tr>\n",
       "    <tr>\n",
       "      <th>2</th>\n",
       "      <td>3</td>\n",
       "      <td>5</td>\n",
       "      <td>2015-07-31</td>\n",
       "      <td>8314</td>\n",
       "      <td>821</td>\n",
       "      <td>1</td>\n",
       "      <td>1</td>\n",
       "      <td>0</td>\n",
       "      <td>1</td>\n",
       "    </tr>\n",
       "    <tr>\n",
       "      <th>3</th>\n",
       "      <td>4</td>\n",
       "      <td>5</td>\n",
       "      <td>2015-07-31</td>\n",
       "      <td>13995</td>\n",
       "      <td>1498</td>\n",
       "      <td>1</td>\n",
       "      <td>1</td>\n",
       "      <td>0</td>\n",
       "      <td>1</td>\n",
       "    </tr>\n",
       "    <tr>\n",
       "      <th>4</th>\n",
       "      <td>5</td>\n",
       "      <td>5</td>\n",
       "      <td>2015-07-31</td>\n",
       "      <td>4822</td>\n",
       "      <td>559</td>\n",
       "      <td>1</td>\n",
       "      <td>1</td>\n",
       "      <td>0</td>\n",
       "      <td>1</td>\n",
       "    </tr>\n",
       "    <tr>\n",
       "      <th>5</th>\n",
       "      <td>6</td>\n",
       "      <td>5</td>\n",
       "      <td>2015-07-31</td>\n",
       "      <td>5651</td>\n",
       "      <td>589</td>\n",
       "      <td>1</td>\n",
       "      <td>1</td>\n",
       "      <td>0</td>\n",
       "      <td>1</td>\n",
       "    </tr>\n",
       "    <tr>\n",
       "      <th>6</th>\n",
       "      <td>7</td>\n",
       "      <td>5</td>\n",
       "      <td>2015-07-31</td>\n",
       "      <td>15344</td>\n",
       "      <td>1414</td>\n",
       "      <td>1</td>\n",
       "      <td>1</td>\n",
       "      <td>0</td>\n",
       "      <td>1</td>\n",
       "    </tr>\n",
       "    <tr>\n",
       "      <th>7</th>\n",
       "      <td>8</td>\n",
       "      <td>5</td>\n",
       "      <td>2015-07-31</td>\n",
       "      <td>8492</td>\n",
       "      <td>833</td>\n",
       "      <td>1</td>\n",
       "      <td>1</td>\n",
       "      <td>0</td>\n",
       "      <td>1</td>\n",
       "    </tr>\n",
       "    <tr>\n",
       "      <th>8</th>\n",
       "      <td>9</td>\n",
       "      <td>5</td>\n",
       "      <td>2015-07-31</td>\n",
       "      <td>8565</td>\n",
       "      <td>687</td>\n",
       "      <td>1</td>\n",
       "      <td>1</td>\n",
       "      <td>0</td>\n",
       "      <td>1</td>\n",
       "    </tr>\n",
       "    <tr>\n",
       "      <th>9</th>\n",
       "      <td>10</td>\n",
       "      <td>5</td>\n",
       "      <td>2015-07-31</td>\n",
       "      <td>7185</td>\n",
       "      <td>681</td>\n",
       "      <td>1</td>\n",
       "      <td>1</td>\n",
       "      <td>0</td>\n",
       "      <td>1</td>\n",
       "    </tr>\n",
       "  </tbody>\n",
       "</table>\n",
       "</div>"
      ]
     },
     "execution_count": 1,
     "metadata": {},
     "output_type": "execute_result"
    }
   ],
   "execution_count": 1
  },
  {
   "metadata": {
    "ExecuteTime": {
     "end_time": "2025-03-21T10:57:06.183341Z",
     "start_time": "2025-03-21T10:57:06.172600Z"
    }
   },
   "cell_type": "code",
   "source": "df.info",
   "id": "a613f9d5adedd02a",
   "outputs": [
    {
     "data": {
      "text/plain": [
       "<bound method DataFrame.info of          Store  DayOfWeek       Date  Sales  Customers  Open  Promo  \\\n",
       "1017208   1115          2 2013-01-01      0          0     0      0   \n",
       "1016473    379          2 2013-01-01      0          0     0      0   \n",
       "1016472    378          2 2013-01-01      0          0     0      0   \n",
       "1016471    377          2 2013-01-01      0          0     0      0   \n",
       "1016470    376          2 2013-01-01      0          0     0      0   \n",
       "...        ...        ...        ...    ...        ...   ...    ...   \n",
       "745        746          5 2015-07-31   9082        638     1      1   \n",
       "746        747          5 2015-07-31  10708        826     1      1   \n",
       "747        748          5 2015-07-31   7481        578     1      1   \n",
       "741        742          5 2015-07-31  10460       1016     1      1   \n",
       "0            1          5 2015-07-31   5263        555     1      1   \n",
       "\n",
       "        StateHoliday  SchoolHoliday     Total  AvgSalePerCustomer  3DaySales  \n",
       "1017208            a              1         0                 NaN        NaN  \n",
       "1016473            a              1         0                 NaN        NaN  \n",
       "1016472            a              1         0                 NaN        0.0  \n",
       "1016471            a              1         0                 NaN        0.0  \n",
       "1016470            a              1         0                 NaN        0.0  \n",
       "...              ...            ...       ...                 ...        ...  \n",
       "745                0              1   5794316           14.235110    26108.0  \n",
       "746                0              1   8844808           12.963680    28153.0  \n",
       "747                0              1   4324018           12.942907    27271.0  \n",
       "741                0              1  10627360           10.295276    28649.0  \n",
       "0                  0              1   2920965            9.482883    23204.0  \n",
       "\n",
       "[1017209 rows x 12 columns]>"
      ]
     },
     "execution_count": 13,
     "metadata": {},
     "output_type": "execute_result"
    }
   ],
   "execution_count": 13
  },
  {
   "metadata": {
    "ExecuteTime": {
     "end_time": "2025-03-21T10:58:07.896601Z",
     "start_time": "2025-03-21T10:58:07.878882Z"
    }
   },
   "cell_type": "code",
   "source": "df.dtypes",
   "id": "8bcbd0aee600d145",
   "outputs": [
    {
     "data": {
      "text/plain": [
       "Store                          int64\n",
       "DayOfWeek                      int64\n",
       "Date                  datetime64[ns]\n",
       "Sales                          int64\n",
       "Customers                      int64\n",
       "Open                           int64\n",
       "Promo                          int64\n",
       "StateHoliday                  object\n",
       "SchoolHoliday                  int64\n",
       "Total                          int64\n",
       "AvgSalePerCustomer           float64\n",
       "3DaySales                    float64\n",
       "dtype: object"
      ]
     },
     "execution_count": 14,
     "metadata": {},
     "output_type": "execute_result"
    }
   ],
   "execution_count": 14
  },
  {
   "metadata": {
    "ExecuteTime": {
     "end_time": "2025-03-21T10:53:18.998910Z",
     "start_time": "2025-03-21T10:53:18.981864Z"
    }
   },
   "cell_type": "code",
   "source": [
    "# Скільки коштів отримали за всі продані товари \n",
    "df['Total'] = df['Sales'] * df['Customers']\n",
    "df.head(10)"
   ],
   "id": "1d4037013a45cad",
   "outputs": [
    {
     "data": {
      "text/plain": [
       "   Store  DayOfWeek        Date  Sales  Customers  Open  Promo StateHoliday  \\\n",
       "0      1          5  2015-07-31   5263        555     1      1            0   \n",
       "1      2          5  2015-07-31   6064        625     1      1            0   \n",
       "2      3          5  2015-07-31   8314        821     1      1            0   \n",
       "3      4          5  2015-07-31  13995       1498     1      1            0   \n",
       "4      5          5  2015-07-31   4822        559     1      1            0   \n",
       "5      6          5  2015-07-31   5651        589     1      1            0   \n",
       "6      7          5  2015-07-31  15344       1414     1      1            0   \n",
       "7      8          5  2015-07-31   8492        833     1      1            0   \n",
       "8      9          5  2015-07-31   8565        687     1      1            0   \n",
       "9     10          5  2015-07-31   7185        681     1      1            0   \n",
       "\n",
       "   SchoolHoliday     Total  \n",
       "0              1   2920965  \n",
       "1              1   3790000  \n",
       "2              1   6825794  \n",
       "3              1  20964510  \n",
       "4              1   2695498  \n",
       "5              1   3328439  \n",
       "6              1  21696416  \n",
       "7              1   7073836  \n",
       "8              1   5884155  \n",
       "9              1   4892985  "
      ],
      "text/html": [
       "<div>\n",
       "<style scoped>\n",
       "    .dataframe tbody tr th:only-of-type {\n",
       "        vertical-align: middle;\n",
       "    }\n",
       "\n",
       "    .dataframe tbody tr th {\n",
       "        vertical-align: top;\n",
       "    }\n",
       "\n",
       "    .dataframe thead th {\n",
       "        text-align: right;\n",
       "    }\n",
       "</style>\n",
       "<table border=\"1\" class=\"dataframe\">\n",
       "  <thead>\n",
       "    <tr style=\"text-align: right;\">\n",
       "      <th></th>\n",
       "      <th>Store</th>\n",
       "      <th>DayOfWeek</th>\n",
       "      <th>Date</th>\n",
       "      <th>Sales</th>\n",
       "      <th>Customers</th>\n",
       "      <th>Open</th>\n",
       "      <th>Promo</th>\n",
       "      <th>StateHoliday</th>\n",
       "      <th>SchoolHoliday</th>\n",
       "      <th>Total</th>\n",
       "    </tr>\n",
       "  </thead>\n",
       "  <tbody>\n",
       "    <tr>\n",
       "      <th>0</th>\n",
       "      <td>1</td>\n",
       "      <td>5</td>\n",
       "      <td>2015-07-31</td>\n",
       "      <td>5263</td>\n",
       "      <td>555</td>\n",
       "      <td>1</td>\n",
       "      <td>1</td>\n",
       "      <td>0</td>\n",
       "      <td>1</td>\n",
       "      <td>2920965</td>\n",
       "    </tr>\n",
       "    <tr>\n",
       "      <th>1</th>\n",
       "      <td>2</td>\n",
       "      <td>5</td>\n",
       "      <td>2015-07-31</td>\n",
       "      <td>6064</td>\n",
       "      <td>625</td>\n",
       "      <td>1</td>\n",
       "      <td>1</td>\n",
       "      <td>0</td>\n",
       "      <td>1</td>\n",
       "      <td>3790000</td>\n",
       "    </tr>\n",
       "    <tr>\n",
       "      <th>2</th>\n",
       "      <td>3</td>\n",
       "      <td>5</td>\n",
       "      <td>2015-07-31</td>\n",
       "      <td>8314</td>\n",
       "      <td>821</td>\n",
       "      <td>1</td>\n",
       "      <td>1</td>\n",
       "      <td>0</td>\n",
       "      <td>1</td>\n",
       "      <td>6825794</td>\n",
       "    </tr>\n",
       "    <tr>\n",
       "      <th>3</th>\n",
       "      <td>4</td>\n",
       "      <td>5</td>\n",
       "      <td>2015-07-31</td>\n",
       "      <td>13995</td>\n",
       "      <td>1498</td>\n",
       "      <td>1</td>\n",
       "      <td>1</td>\n",
       "      <td>0</td>\n",
       "      <td>1</td>\n",
       "      <td>20964510</td>\n",
       "    </tr>\n",
       "    <tr>\n",
       "      <th>4</th>\n",
       "      <td>5</td>\n",
       "      <td>5</td>\n",
       "      <td>2015-07-31</td>\n",
       "      <td>4822</td>\n",
       "      <td>559</td>\n",
       "      <td>1</td>\n",
       "      <td>1</td>\n",
       "      <td>0</td>\n",
       "      <td>1</td>\n",
       "      <td>2695498</td>\n",
       "    </tr>\n",
       "    <tr>\n",
       "      <th>5</th>\n",
       "      <td>6</td>\n",
       "      <td>5</td>\n",
       "      <td>2015-07-31</td>\n",
       "      <td>5651</td>\n",
       "      <td>589</td>\n",
       "      <td>1</td>\n",
       "      <td>1</td>\n",
       "      <td>0</td>\n",
       "      <td>1</td>\n",
       "      <td>3328439</td>\n",
       "    </tr>\n",
       "    <tr>\n",
       "      <th>6</th>\n",
       "      <td>7</td>\n",
       "      <td>5</td>\n",
       "      <td>2015-07-31</td>\n",
       "      <td>15344</td>\n",
       "      <td>1414</td>\n",
       "      <td>1</td>\n",
       "      <td>1</td>\n",
       "      <td>0</td>\n",
       "      <td>1</td>\n",
       "      <td>21696416</td>\n",
       "    </tr>\n",
       "    <tr>\n",
       "      <th>7</th>\n",
       "      <td>8</td>\n",
       "      <td>5</td>\n",
       "      <td>2015-07-31</td>\n",
       "      <td>8492</td>\n",
       "      <td>833</td>\n",
       "      <td>1</td>\n",
       "      <td>1</td>\n",
       "      <td>0</td>\n",
       "      <td>1</td>\n",
       "      <td>7073836</td>\n",
       "    </tr>\n",
       "    <tr>\n",
       "      <th>8</th>\n",
       "      <td>9</td>\n",
       "      <td>5</td>\n",
       "      <td>2015-07-31</td>\n",
       "      <td>8565</td>\n",
       "      <td>687</td>\n",
       "      <td>1</td>\n",
       "      <td>1</td>\n",
       "      <td>0</td>\n",
       "      <td>1</td>\n",
       "      <td>5884155</td>\n",
       "    </tr>\n",
       "    <tr>\n",
       "      <th>9</th>\n",
       "      <td>10</td>\n",
       "      <td>5</td>\n",
       "      <td>2015-07-31</td>\n",
       "      <td>7185</td>\n",
       "      <td>681</td>\n",
       "      <td>1</td>\n",
       "      <td>1</td>\n",
       "      <td>0</td>\n",
       "      <td>1</td>\n",
       "      <td>4892985</td>\n",
       "    </tr>\n",
       "  </tbody>\n",
       "</table>\n",
       "</div>"
      ]
     },
     "execution_count": 2,
     "metadata": {},
     "output_type": "execute_result"
    }
   ],
   "execution_count": 2
  },
  {
   "metadata": {
    "ExecuteTime": {
     "end_time": "2025-03-21T10:53:19.287617Z",
     "start_time": "2025-03-21T10:53:19.075866Z"
    }
   },
   "cell_type": "code",
   "source": [
    "# Скільки коштів отримали окремо у 2020 та 2021 році\n",
    "df['Date'] = pd.to_datetime(df['Date'])\n",
    "for year in (2014, 2015):\n",
    "    inc = df[df['Date'].dt.year == year]['Total'].sum() \n",
    "    print(f'Income in {year}: {inc}')    \n",
    "    \n",
    "# Який місяць був найбільш прибутковий \n",
    "print(\"M monthly_income\") \n",
    "monthly_income = df.groupby(df['Date'].dt.to_period('M')) \n",
    "overall_month_income = monthly_income['Total'].sum() \n",
    "print(overall_month_income) \n",
    "print(overall_month_income.nlargest(1)) "
   ],
   "id": "97b66ef658110b4b",
   "outputs": [
    {
     "name": "stdout",
     "output_type": "stream",
     "text": [
      "Income in 2014: 2014798748640\n",
      "Income in 2015: 1232014453822\n",
      "M monthly_income\n",
      "Date\n",
      "2013-01    152219628368\n",
      "2013-02    149068538906\n",
      "2013-03    190785037281\n",
      "2013-04    164629916026\n",
      "2013-05    174541543295\n",
      "2013-06    158032961192\n",
      "2013-07    188810805488\n",
      "2013-08    175268223652\n",
      "2013-09    153502624855\n",
      "2013-10    164246443877\n",
      "2013-11    175556776720\n",
      "2013-12    252331344688\n",
      "2014-01    161151109731\n",
      "2014-02    157735043481\n",
      "2014-03    170736432712\n",
      "2014-04    183307309375\n",
      "2014-05    177270421841\n",
      "2014-06    177598113169\n",
      "2014-07    157485213691\n",
      "2014-08    148035882531\n",
      "2014-09    149989691055\n",
      "2014-10    149653490214\n",
      "2014-11    165276800485\n",
      "2014-12    216559240355\n",
      "2015-01    170224597112\n",
      "2015-02    152432598357\n",
      "2015-03    181426897485\n",
      "2015-04    183745440169\n",
      "2015-05    173155316909\n",
      "2015-06    187401195879\n",
      "2015-07    183628407911\n",
      "Freq: M, Name: Total, dtype: int64\n",
      "Date\n",
      "2013-12    252331344688\n",
      "Freq: M, Name: Total, dtype: int64\n"
     ]
    }
   ],
   "execution_count": 3
  },
  {
   "metadata": {
    "ExecuteTime": {
     "end_time": "2025-03-21T10:53:19.486220Z",
     "start_time": "2025-03-21T10:53:19.466046Z"
    }
   },
   "cell_type": "code",
   "source": [
    "# Який середній продаж на одного клієнта?\n",
    "df['AvgSalePerCustomer'] = df['Sales'] / df['Customers']\n",
    "df.head(10)"
   ],
   "id": "b8df0c37c29c1715",
   "outputs": [
    {
     "data": {
      "text/plain": [
       "   Store  DayOfWeek       Date  Sales  Customers  Open  Promo StateHoliday  \\\n",
       "0      1          5 2015-07-31   5263        555     1      1            0   \n",
       "1      2          5 2015-07-31   6064        625     1      1            0   \n",
       "2      3          5 2015-07-31   8314        821     1      1            0   \n",
       "3      4          5 2015-07-31  13995       1498     1      1            0   \n",
       "4      5          5 2015-07-31   4822        559     1      1            0   \n",
       "5      6          5 2015-07-31   5651        589     1      1            0   \n",
       "6      7          5 2015-07-31  15344       1414     1      1            0   \n",
       "7      8          5 2015-07-31   8492        833     1      1            0   \n",
       "8      9          5 2015-07-31   8565        687     1      1            0   \n",
       "9     10          5 2015-07-31   7185        681     1      1            0   \n",
       "\n",
       "   SchoolHoliday     Total  AvgSalePerCustomer  \n",
       "0              1   2920965            9.482883  \n",
       "1              1   3790000            9.702400  \n",
       "2              1   6825794           10.126675  \n",
       "3              1  20964510            9.342457  \n",
       "4              1   2695498            8.626118  \n",
       "5              1   3328439            9.594228  \n",
       "6              1  21696416           10.851485  \n",
       "7              1   7073836           10.194478  \n",
       "8              1   5884155           12.467249  \n",
       "9              1   4892985           10.550661  "
      ],
      "text/html": [
       "<div>\n",
       "<style scoped>\n",
       "    .dataframe tbody tr th:only-of-type {\n",
       "        vertical-align: middle;\n",
       "    }\n",
       "\n",
       "    .dataframe tbody tr th {\n",
       "        vertical-align: top;\n",
       "    }\n",
       "\n",
       "    .dataframe thead th {\n",
       "        text-align: right;\n",
       "    }\n",
       "</style>\n",
       "<table border=\"1\" class=\"dataframe\">\n",
       "  <thead>\n",
       "    <tr style=\"text-align: right;\">\n",
       "      <th></th>\n",
       "      <th>Store</th>\n",
       "      <th>DayOfWeek</th>\n",
       "      <th>Date</th>\n",
       "      <th>Sales</th>\n",
       "      <th>Customers</th>\n",
       "      <th>Open</th>\n",
       "      <th>Promo</th>\n",
       "      <th>StateHoliday</th>\n",
       "      <th>SchoolHoliday</th>\n",
       "      <th>Total</th>\n",
       "      <th>AvgSalePerCustomer</th>\n",
       "    </tr>\n",
       "  </thead>\n",
       "  <tbody>\n",
       "    <tr>\n",
       "      <th>0</th>\n",
       "      <td>1</td>\n",
       "      <td>5</td>\n",
       "      <td>2015-07-31</td>\n",
       "      <td>5263</td>\n",
       "      <td>555</td>\n",
       "      <td>1</td>\n",
       "      <td>1</td>\n",
       "      <td>0</td>\n",
       "      <td>1</td>\n",
       "      <td>2920965</td>\n",
       "      <td>9.482883</td>\n",
       "    </tr>\n",
       "    <tr>\n",
       "      <th>1</th>\n",
       "      <td>2</td>\n",
       "      <td>5</td>\n",
       "      <td>2015-07-31</td>\n",
       "      <td>6064</td>\n",
       "      <td>625</td>\n",
       "      <td>1</td>\n",
       "      <td>1</td>\n",
       "      <td>0</td>\n",
       "      <td>1</td>\n",
       "      <td>3790000</td>\n",
       "      <td>9.702400</td>\n",
       "    </tr>\n",
       "    <tr>\n",
       "      <th>2</th>\n",
       "      <td>3</td>\n",
       "      <td>5</td>\n",
       "      <td>2015-07-31</td>\n",
       "      <td>8314</td>\n",
       "      <td>821</td>\n",
       "      <td>1</td>\n",
       "      <td>1</td>\n",
       "      <td>0</td>\n",
       "      <td>1</td>\n",
       "      <td>6825794</td>\n",
       "      <td>10.126675</td>\n",
       "    </tr>\n",
       "    <tr>\n",
       "      <th>3</th>\n",
       "      <td>4</td>\n",
       "      <td>5</td>\n",
       "      <td>2015-07-31</td>\n",
       "      <td>13995</td>\n",
       "      <td>1498</td>\n",
       "      <td>1</td>\n",
       "      <td>1</td>\n",
       "      <td>0</td>\n",
       "      <td>1</td>\n",
       "      <td>20964510</td>\n",
       "      <td>9.342457</td>\n",
       "    </tr>\n",
       "    <tr>\n",
       "      <th>4</th>\n",
       "      <td>5</td>\n",
       "      <td>5</td>\n",
       "      <td>2015-07-31</td>\n",
       "      <td>4822</td>\n",
       "      <td>559</td>\n",
       "      <td>1</td>\n",
       "      <td>1</td>\n",
       "      <td>0</td>\n",
       "      <td>1</td>\n",
       "      <td>2695498</td>\n",
       "      <td>8.626118</td>\n",
       "    </tr>\n",
       "    <tr>\n",
       "      <th>5</th>\n",
       "      <td>6</td>\n",
       "      <td>5</td>\n",
       "      <td>2015-07-31</td>\n",
       "      <td>5651</td>\n",
       "      <td>589</td>\n",
       "      <td>1</td>\n",
       "      <td>1</td>\n",
       "      <td>0</td>\n",
       "      <td>1</td>\n",
       "      <td>3328439</td>\n",
       "      <td>9.594228</td>\n",
       "    </tr>\n",
       "    <tr>\n",
       "      <th>6</th>\n",
       "      <td>7</td>\n",
       "      <td>5</td>\n",
       "      <td>2015-07-31</td>\n",
       "      <td>15344</td>\n",
       "      <td>1414</td>\n",
       "      <td>1</td>\n",
       "      <td>1</td>\n",
       "      <td>0</td>\n",
       "      <td>1</td>\n",
       "      <td>21696416</td>\n",
       "      <td>10.851485</td>\n",
       "    </tr>\n",
       "    <tr>\n",
       "      <th>7</th>\n",
       "      <td>8</td>\n",
       "      <td>5</td>\n",
       "      <td>2015-07-31</td>\n",
       "      <td>8492</td>\n",
       "      <td>833</td>\n",
       "      <td>1</td>\n",
       "      <td>1</td>\n",
       "      <td>0</td>\n",
       "      <td>1</td>\n",
       "      <td>7073836</td>\n",
       "      <td>10.194478</td>\n",
       "    </tr>\n",
       "    <tr>\n",
       "      <th>8</th>\n",
       "      <td>9</td>\n",
       "      <td>5</td>\n",
       "      <td>2015-07-31</td>\n",
       "      <td>8565</td>\n",
       "      <td>687</td>\n",
       "      <td>1</td>\n",
       "      <td>1</td>\n",
       "      <td>0</td>\n",
       "      <td>1</td>\n",
       "      <td>5884155</td>\n",
       "      <td>12.467249</td>\n",
       "    </tr>\n",
       "    <tr>\n",
       "      <th>9</th>\n",
       "      <td>10</td>\n",
       "      <td>5</td>\n",
       "      <td>2015-07-31</td>\n",
       "      <td>7185</td>\n",
       "      <td>681</td>\n",
       "      <td>1</td>\n",
       "      <td>1</td>\n",
       "      <td>0</td>\n",
       "      <td>1</td>\n",
       "      <td>4892985</td>\n",
       "      <td>10.550661</td>\n",
       "    </tr>\n",
       "  </tbody>\n",
       "</table>\n",
       "</div>"
      ]
     },
     "execution_count": 4,
     "metadata": {},
     "output_type": "execute_result"
    }
   ],
   "execution_count": 4
  },
  {
   "metadata": {
    "ExecuteTime": {
     "end_time": "2025-03-21T10:53:19.648194Z",
     "start_time": "2025-03-21T10:53:19.638079Z"
    }
   },
   "cell_type": "code",
   "source": "df['AvgSalePerCustomer'].mean()",
   "id": "2f29263bd456e365",
   "outputs": [
    {
     "data": {
      "text/plain": [
       "np.float64(9.493619003355342)"
      ]
     },
     "execution_count": 5,
     "metadata": {},
     "output_type": "execute_result"
    }
   ],
   "execution_count": 5
  },
  {
   "metadata": {
    "ExecuteTime": {
     "end_time": "2025-03-21T11:03:41.603662Z",
     "start_time": "2025-03-21T11:03:41.573545Z"
    }
   },
   "cell_type": "code",
   "source": [
    "# Який магазин має найбільшу кількість клієнтів у середньому?\n",
    "print(df.groupby('Store')['Customers'].mean().idxmax())\n"
   ],
   "id": "8539ca9e863ebb6a",
   "outputs": [
    {
     "name": "stdout",
     "output_type": "stream",
     "text": [
      "733\n"
     ]
    }
   ],
   "execution_count": 15
  },
  {
   "metadata": {
    "ExecuteTime": {
     "end_time": "2025-03-21T11:06:16.397267Z",
     "start_time": "2025-03-21T11:06:16.190070Z"
    }
   },
   "cell_type": "code",
   "source": [
    "# Порівняти загальні продажі за перші півроку та другі півроку 2015 року)?\n",
    "df['Date'] = pd.to_datetime(df['Date'])\n",
    "first_half = df[(df['Date'].dt.year == 2015) & (df['Date'].dt.month <= 6)]['Sales'].sum()\n",
    "second_half = df[(df['Date'].dt.year == 2015) & (df['Date'].dt.month > 6)]['Sales'].sum()\n",
    "print(first_half, second_half)\n",
    "if first_half > second_half:\n",
    "    print('First half is bigger')\n",
    "else:\n",
    "    print('Second half is bigger')\n"
   ],
   "id": "5cc56f7a770aba3c",
   "outputs": [
    {
     "name": "stdout",
     "output_type": "stream",
     "text": [
      "1177177027 212322616\n",
      "First half is bigger\n"
     ]
    }
   ],
   "execution_count": 17
  },
  {
   "metadata": {
    "ExecuteTime": {
     "end_time": "2025-03-21T11:07:09.777583Z",
     "start_time": "2025-03-21T11:07:09.755278Z"
    }
   },
   "cell_type": "code",
   "source": [
    "# Який день тижня приносить найбільше прибутку в середньому?\n",
    "print(df.groupby('DayOfWeek')['Sales'].mean().idxmax())"
   ],
   "id": "8240856a4b605f8d",
   "outputs": [
    {
     "name": "stdout",
     "output_type": "stream",
     "text": [
      "1\n"
     ]
    }
   ],
   "execution_count": 20
  },
  {
   "metadata": {
    "ExecuteTime": {
     "end_time": "2025-03-21T10:53:21.167032Z",
     "start_time": "2025-03-21T10:53:21.100553Z"
    }
   },
   "cell_type": "code",
   "source": [
    "#Порівняти сумарну кількість продаж за дні коли були шкільні канікули і коли їх не було\n",
    "a = df[df['SchoolHoliday'] == 1]['Sales'].sum()\n",
    "b = df[df['SchoolHoliday'] == 0]['Sales'].sum()\n",
    "print(a,b)\n",
    "if a>b:\n",
    "    print(a)\n",
    "else:\n",
    "    print(b)"
   ],
   "id": "5f33a03feb972edd",
   "outputs": [
    {
     "name": "stdout",
     "output_type": "stream",
     "text": [
      "1176920092 4696260531\n",
      "4696260531\n"
     ]
    }
   ],
   "execution_count": 9
  },
  {
   "metadata": {
    "ExecuteTime": {
     "end_time": "2025-03-21T10:53:21.225040Z",
     "start_time": "2025-03-21T10:53:21.191628Z"
    }
   },
   "cell_type": "code",
   "source": [
    "# Який відсоток продажів припадає на топ-3 магазини?\n",
    "top3_sales = df.groupby('Store')['Sales'].sum().nlargest(3).sum()\n",
    "total_sales = df['Sales'].sum()\n",
    "print((top3_sales / total_sales) * 100)\n",
    "\n"
   ],
   "id": "2888762b42586c38",
   "outputs": [
    {
     "name": "stdout",
     "output_type": "stream",
     "text": [
      "0.910954973706757\n"
     ]
    }
   ],
   "execution_count": 10
  },
  {
   "metadata": {
    "ExecuteTime": {
     "end_time": "2025-03-21T10:53:21.275225Z",
     "start_time": "2025-03-21T10:53:21.266761Z"
    }
   },
   "cell_type": "code",
   "source": [
    "# Який день мав найменшу кількість клієнтів ?\n",
    "df.loc[df['Customers'].idxmin()]\n"
   ],
   "id": "ad5f27010c3fd591",
   "outputs": [
    {
     "data": {
      "text/plain": [
       "Store                                 292\n",
       "DayOfWeek                               5\n",
       "Date                  2015-07-31 00:00:00\n",
       "Sales                                   0\n",
       "Customers                               0\n",
       "Open                                    0\n",
       "Promo                                   1\n",
       "StateHoliday                            0\n",
       "SchoolHoliday                           1\n",
       "Total                                   0\n",
       "AvgSalePerCustomer                    NaN\n",
       "Name: 291, dtype: object"
      ]
     },
     "execution_count": 11,
     "metadata": {},
     "output_type": "execute_result"
    }
   ],
   "execution_count": 11
  },
  {
   "metadata": {
    "ExecuteTime": {
     "end_time": "2025-03-21T11:12:10.530004Z",
     "start_time": "2025-03-21T11:12:10.495553Z"
    }
   },
   "cell_type": "code",
   "source": [
    "#Які три дні поспіль давали найбільший прибуток?\n",
    "df['3DaySales'] = df['Sales'].rolling(3).sum()\n",
    "\n",
    "max_idx = df['3DaySales'].idxmax()\n",
    "max_pos = df.index.get_loc(max_idx)  \n",
    "top_3_days = df.iloc[max_pos - 2:max_pos + 1]  \n",
    "total_sales = top_3_days['Sales'].sum()  \n",
    "\n",
    "print(\"Найприбутковіші 3 дні поспіль:\")\n",
    "print(top_3_days[['Date', 'Sales']])\n",
    "print(f\"Загальний прибуток за ці 3 дні: {total_sales}\")"
   ],
   "id": "634f55c605a70996",
   "outputs": [
    {
     "name": "stdout",
     "output_type": "stream",
     "text": [
      "Найприбутковіші 3 дні поспіль:\n",
      "             Date  Sales\n",
      "627505 2013-12-16  23020\n",
      "627504 2013-12-16  23441\n",
      "627503 2013-12-16  30903\n",
      "Загальний прибуток за ці 3 дні: 77364\n"
     ]
    }
   ],
   "execution_count": 22
  }
 ],
 "metadata": {
  "kernelspec": {
   "display_name": "Python 3",
   "language": "python",
   "name": "python3"
  },
  "language_info": {
   "codemirror_mode": {
    "name": "ipython",
    "version": 2
   },
   "file_extension": ".py",
   "mimetype": "text/x-python",
   "name": "python",
   "nbconvert_exporter": "python",
   "pygments_lexer": "ipython2",
   "version": "2.7.6"
  }
 },
 "nbformat": 4,
 "nbformat_minor": 5
}
